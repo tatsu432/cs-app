{
 "cells": [
  {
   "cell_type": "code",
   "execution_count": null,
   "id": "e07d96ff",
   "metadata": {
    "vscode": {
     "languageId": "shellscript"
    }
   },
   "outputs": [],
   "source": [
    "# assembly code\n",
    "clang -target x86_64-apple-macos11 -S -Og -fno-omit-frame-pointer mstore.c"
   ]
  },
  {
   "cell_type": "code",
   "execution_count": null,
   "id": "339091ba",
   "metadata": {
    "vscode": {
     "languageId": "shellscript"
    }
   },
   "outputs": [],
   "source": [
    "# object file\n",
    "clang -target x86_64-apple-macos11 -c -Og mstore.c -o mstore_x86.o\n",
    "\n",
    "# or Apple’s otool (disassemble)\n",
    "objdump -d mstore.o\n",
    "# or\n",
    "otool -tvV mstore.o\n",
    "\n",
    "# -t → disassemble the text section (code)\n",
    "# -v → show symbol names\n",
    "# -V → show offsets and annotations"
   ]
  }
 ],
 "metadata": {
  "language_info": {
   "name": "python"
  }
 },
 "nbformat": 4,
 "nbformat_minor": 5
}
